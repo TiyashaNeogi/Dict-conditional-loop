{
 "cells": [
  {
   "cell_type": "code",
   "execution_count": 1,
   "id": "b4716de8-999a-48c6-a1a2-feb273d79a23",
   "metadata": {},
   "outputs": [],
   "source": [
    "d={}"
   ]
  },
  {
   "cell_type": "code",
   "execution_count": 2,
   "id": "c1def39e-5248-455a-b3be-cafad187b6bd",
   "metadata": {},
   "outputs": [
    {
     "data": {
      "text/plain": [
       "dict"
      ]
     },
     "execution_count": 2,
     "metadata": {},
     "output_type": "execute_result"
    }
   ],
   "source": [
    "type(d)"
   ]
  },
  {
   "cell_type": "code",
   "execution_count": 3,
   "id": "ceaede89-2644-45a2-8ce1-771906fc3954",
   "metadata": {},
   "outputs": [],
   "source": [
    "d1={\"key\":\"tiyasha\"}"
   ]
  },
  {
   "cell_type": "code",
   "execution_count": 4,
   "id": "e357c4d0-bb05-4cec-8f18-8b04fdc82849",
   "metadata": {},
   "outputs": [
    {
     "data": {
      "text/plain": [
       "{'key': 'tiyasha'}"
      ]
     },
     "execution_count": 4,
     "metadata": {},
     "output_type": "execute_result"
    }
   ],
   "source": [
    "d1"
   ]
  },
  {
   "cell_type": "code",
   "execution_count": 5,
   "id": "614c14b9-eacc-46c5-a10b-4e908d788cae",
   "metadata": {},
   "outputs": [],
   "source": [
    "d2={\"name\":\"tiyasha\",\"email\":\"tiyashaneogi@gmail.com\",\"phone number\":1234567892}"
   ]
  },
  {
   "cell_type": "code",
   "execution_count": 6,
   "id": "7e0f0ff2-5bf5-4b93-bbc0-82f4bf7a5a1d",
   "metadata": {},
   "outputs": [
    {
     "data": {
      "text/plain": [
       "{'name': 'tiyasha',\n",
       " 'email': 'tiyashaneogi@gmail.com',\n",
       " 'phone number': 1234567892}"
      ]
     },
     "execution_count": 6,
     "metadata": {},
     "output_type": "execute_result"
    }
   ],
   "source": [
    "d2"
   ]
  },
  {
   "cell_type": "code",
   "execution_count": 7,
   "id": "a3fc87b2-95ad-4794-b7a7-a764723837b6",
   "metadata": {},
   "outputs": [],
   "source": [
    "d3={234:\"tiyasha\"}"
   ]
  },
  {
   "cell_type": "code",
   "execution_count": 8,
   "id": "7b6bd604-087b-45ad-a5bb-8bdb5752d312",
   "metadata": {},
   "outputs": [
    {
     "ename": "SyntaxError",
     "evalue": "invalid syntax (1842946150.py, line 1)",
     "output_type": "error",
     "traceback": [
      "\u001b[0;36m  Cell \u001b[0;32mIn[8], line 1\u001b[0;36m\u001b[0m\n\u001b[0;31m    d4={234:\"tiyasha\",@wer:\"sfdihvdk\"}  # spacial character not be required\u001b[0m\n\u001b[0m                      ^\u001b[0m\n\u001b[0;31mSyntaxError\u001b[0m\u001b[0;31m:\u001b[0m invalid syntax\n"
     ]
    }
   ],
   "source": [
    "d4={234:\"tiyasha\",@wer:\"sfdihvdk\"}  # spacial character not be required  "
   ]
  },
  {
   "cell_type": "code",
   "execution_count": 9,
   "id": "d5f0290e-7959-4c34-b5ce-fc533532124d",
   "metadata": {},
   "outputs": [],
   "source": [
    "d4={234:\"tiyasha\",\"@wer\":\"sfdihvdk\",True:1234}"
   ]
  },
  {
   "cell_type": "code",
   "execution_count": 10,
   "id": "26624561-c3ef-4957-a7ee-26b241db1e83",
   "metadata": {},
   "outputs": [
    {
     "data": {
      "text/plain": [
       "{234: 'tiyasha', '@wer': 'sfdihvdk', True: 1234}"
      ]
     },
     "execution_count": 10,
     "metadata": {},
     "output_type": "execute_result"
    }
   ],
   "source": [
    "d4"
   ]
  },
  {
   "cell_type": "code",
   "execution_count": 11,
   "id": "9973fcda-23ba-4d92-847e-8a08c3f9e529",
   "metadata": {},
   "outputs": [
    {
     "data": {
      "text/plain": [
       "'tiyasha'"
      ]
     },
     "execution_count": 11,
     "metadata": {},
     "output_type": "execute_result"
    }
   ],
   "source": [
    "d4[234]"
   ]
  },
  {
   "cell_type": "code",
   "execution_count": 12,
   "id": "8590e70d-6cc6-432f-8a93-20bbfffd4461",
   "metadata": {},
   "outputs": [
    {
     "data": {
      "text/plain": [
       "1234"
      ]
     },
     "execution_count": 12,
     "metadata": {},
     "output_type": "execute_result"
    }
   ],
   "source": [
    "d4[True]"
   ]
  },
  {
   "cell_type": "code",
   "execution_count": 13,
   "id": "e643896c-fb61-4d37-b1d0-5446929508f4",
   "metadata": {},
   "outputs": [
    {
     "data": {
      "text/plain": [
       "1234"
      ]
     },
     "execution_count": 13,
     "metadata": {},
     "output_type": "execute_result"
    }
   ],
   "source": [
    "d4[1] #1 means True "
   ]
  },
  {
   "cell_type": "code",
   "execution_count": 14,
   "id": "29ac494e-2d66-4102-99a2-a8d18ec4f1c1",
   "metadata": {},
   "outputs": [],
   "source": [
    "d5={\"name\":\"tiya\",\"mail_id\":\"tn@gmail.com\",\"name\":\"tiyasha\"}"
   ]
  },
  {
   "cell_type": "code",
   "execution_count": 15,
   "id": "d58444cb-d4a0-468b-b16a-5ac83197a8f8",
   "metadata": {},
   "outputs": [
    {
     "data": {
      "text/plain": [
       "'tiyasha'"
      ]
     },
     "execution_count": 15,
     "metadata": {},
     "output_type": "execute_result"
    }
   ],
   "source": [
    "d5[\"name\"]"
   ]
  },
  {
   "cell_type": "code",
   "execution_count": 16,
   "id": "533fc7f7-6f55-4902-a7c6-1d93c3477eed",
   "metadata": {},
   "outputs": [],
   "source": [
    "d6={\"company\":\"pwskills\",\"course\":{\"web dev\",\"data science\",\"java with dsa system design\"}}"
   ]
  },
  {
   "cell_type": "code",
   "execution_count": 17,
   "id": "399b0f9a-8018-4c8a-8f14-62a24af1c692",
   "metadata": {},
   "outputs": [
    {
     "data": {
      "text/plain": [
       "{'company': 'pwskills',\n",
       " 'course': {'data science', 'java with dsa system design', 'web dev'}}"
      ]
     },
     "execution_count": 17,
     "metadata": {},
     "output_type": "execute_result"
    }
   ],
   "source": [
    "d6"
   ]
  },
  {
   "cell_type": "code",
   "execution_count": 18,
   "id": "50756787-dc3f-477a-af35-e4142e8a91cd",
   "metadata": {},
   "outputs": [
    {
     "name": "stdout",
     "output_type": "stream",
     "text": [
      "data science\n"
     ]
    }
   ],
   "source": [
    "d6 = {\n",
    "    \"company\": \"pwskills\",\n",
    "    \"course\": [\"web dev\", \"data science\", \"java with dsa system design\"]\n",
    "}\n",
    "print(d6[\"course\"][1])"
   ]
  },
  {
   "cell_type": "code",
   "execution_count": 19,
   "id": "26d4ff39-a63f-41e4-93ac-a7a419d96774",
   "metadata": {},
   "outputs": [],
   "source": [
    "d7={\"number\":[2,34,3,34,34],\"assignment\":(1,2,3,4,5,6),\"launch_date\":{28,12,14},\"class_time\":{\"web_dev\":8,\"Data science masters\":8,\"java with dsa and system design\":7}}"
   ]
  },
  {
   "cell_type": "code",
   "execution_count": 20,
   "id": "e3a0fe96-146b-4090-a0c5-ca7499887df1",
   "metadata": {},
   "outputs": [
    {
     "data": {
      "text/plain": [
       "{'number': [2, 34, 3, 34, 34],\n",
       " 'assignment': (1, 2, 3, 4, 5, 6),\n",
       " 'launch_date': {12, 14, 28},\n",
       " 'class_time': {'web_dev': 8,\n",
       "  'Data science masters': 8,\n",
       "  'java with dsa and system design': 7}}"
      ]
     },
     "execution_count": 20,
     "metadata": {},
     "output_type": "execute_result"
    }
   ],
   "source": [
    "d7"
   ]
  },
  {
   "cell_type": "code",
   "execution_count": 21,
   "id": "d8fc0284-5c0a-42ca-8773-a80192da5e87",
   "metadata": {},
   "outputs": [
    {
     "data": {
      "text/plain": [
       "{'web_dev': 8, 'Data science masters': 8, 'java with dsa and system design': 7}"
      ]
     },
     "execution_count": 21,
     "metadata": {},
     "output_type": "execute_result"
    }
   ],
   "source": [
    "d7['class_time']"
   ]
  },
  {
   "cell_type": "code",
   "execution_count": 22,
   "id": "c666be28-f31c-43e3-baa6-89e885dcbffa",
   "metadata": {},
   "outputs": [
    {
     "data": {
      "text/plain": [
       "7"
      ]
     },
     "execution_count": 22,
     "metadata": {},
     "output_type": "execute_result"
    }
   ],
   "source": [
    "d7['class_time']['java with dsa and system design']"
   ]
  },
  {
   "cell_type": "markdown",
   "id": "5280c278-9b6f-458b-a718-8cae336090dc",
   "metadata": {},
   "source": [
    "key add"
   ]
  },
  {
   "cell_type": "code",
   "execution_count": 23,
   "id": "43dfca47-2b4a-46d1-a3f5-2aa46a88ea53",
   "metadata": {},
   "outputs": [],
   "source": [
    "d7[\"mentor\"]=[\"sudhanshu\",\"krish\",\"anurag\",\"hayder\"]"
   ]
  },
  {
   "cell_type": "code",
   "execution_count": 24,
   "id": "3b923a84-f9ac-4545-aaab-7d45eb256bf1",
   "metadata": {},
   "outputs": [
    {
     "data": {
      "text/plain": [
       "{'number': [2, 34, 3, 34, 34],\n",
       " 'assignment': (1, 2, 3, 4, 5, 6),\n",
       " 'launch_date': {12, 14, 28},\n",
       " 'class_time': {'web_dev': 8,\n",
       "  'Data science masters': 8,\n",
       "  'java with dsa and system design': 7},\n",
       " 'mentor': ['sudhanshu', 'krish', 'anurag', 'hayder']}"
      ]
     },
     "execution_count": 24,
     "metadata": {},
     "output_type": "execute_result"
    }
   ],
   "source": [
    "d7"
   ]
  },
  {
   "cell_type": "code",
   "execution_count": 25,
   "id": "770d53f6-4d8c-49ab-b51a-f9cf25d97c38",
   "metadata": {},
   "outputs": [
    {
     "data": {
      "text/plain": [
       "{'assignment': (1, 2, 3, 4, 5, 6),\n",
       " 'launch_date': {12, 14, 28},\n",
       " 'class_time': {'web_dev': 8,\n",
       "  'Data science masters': 8,\n",
       "  'java with dsa and system design': 7},\n",
       " 'mentor': ['sudhanshu', 'krish', 'anurag', 'hayder']}"
      ]
     },
     "execution_count": 25,
     "metadata": {},
     "output_type": "execute_result"
    }
   ],
   "source": [
    "del d7[\"number\"]\n",
    "d7"
   ]
  },
  {
   "cell_type": "markdown",
   "id": "64839c78-574d-4701-bf65-bf879142662e",
   "metadata": {},
   "source": [
    "keys list"
   ]
  },
  {
   "cell_type": "code",
   "execution_count": 26,
   "id": "938da18d-efd4-460f-b7f8-30ae2ce6c8ce",
   "metadata": {},
   "outputs": [
    {
     "data": {
      "text/plain": [
       "dict_keys(['assignment', 'launch_date', 'class_time', 'mentor'])"
      ]
     },
     "execution_count": 26,
     "metadata": {},
     "output_type": "execute_result"
    }
   ],
   "source": [
    "d7.keys()"
   ]
  },
  {
   "cell_type": "code",
   "execution_count": 27,
   "id": "86560e40-b08a-4475-9f1f-36b62c83e44c",
   "metadata": {},
   "outputs": [
    {
     "data": {
      "text/plain": [
       "['assignment', 'launch_date', 'class_time', 'mentor']"
      ]
     },
     "execution_count": 27,
     "metadata": {},
     "output_type": "execute_result"
    }
   ],
   "source": [
    "list(d7.keys())"
   ]
  },
  {
   "cell_type": "markdown",
   "id": "2a01d69d-dde3-4305-9113-726d90d662ee",
   "metadata": {},
   "source": [
    "value"
   ]
  },
  {
   "cell_type": "code",
   "execution_count": 28,
   "id": "3694eb8d-64d2-45f2-99bd-52b2960fb671",
   "metadata": {},
   "outputs": [
    {
     "data": {
      "text/plain": [
       "dict_values([(1, 2, 3, 4, 5, 6), {28, 12, 14}, {'web_dev': 8, 'Data science masters': 8, 'java with dsa and system design': 7}, ['sudhanshu', 'krish', 'anurag', 'hayder']])"
      ]
     },
     "execution_count": 28,
     "metadata": {},
     "output_type": "execute_result"
    }
   ],
   "source": [
    "d7.values()"
   ]
  },
  {
   "cell_type": "code",
   "execution_count": 29,
   "id": "b842a871-3b65-4bbc-aecd-826921499373",
   "metadata": {},
   "outputs": [
    {
     "data": {
      "text/plain": [
       "[(1, 2, 3, 4, 5, 6),\n",
       " {12, 14, 28},\n",
       " {'web_dev': 8,\n",
       "  'Data science masters': 8,\n",
       "  'java with dsa and system design': 7},\n",
       " ['sudhanshu', 'krish', 'anurag', 'hayder']]"
      ]
     },
     "execution_count": 29,
     "metadata": {},
     "output_type": "execute_result"
    }
   ],
   "source": [
    "list(d7.values())"
   ]
  },
  {
   "cell_type": "code",
   "execution_count": 30,
   "id": "773e2e7b-e1ae-4ee3-82c3-7777e459a294",
   "metadata": {},
   "outputs": [
    {
     "data": {
      "text/plain": [
       "dict_items([('assignment', (1, 2, 3, 4, 5, 6)), ('launch_date', {28, 12, 14}), ('class_time', {'web_dev': 8, 'Data science masters': 8, 'java with dsa and system design': 7}), ('mentor', ['sudhanshu', 'krish', 'anurag', 'hayder'])])"
      ]
     },
     "execution_count": 30,
     "metadata": {},
     "output_type": "execute_result"
    }
   ],
   "source": [
    "d7.items()"
   ]
  },
  {
   "cell_type": "code",
   "execution_count": 31,
   "id": "9539d1c8-eb9e-442a-8d77-fdc39e4245c0",
   "metadata": {},
   "outputs": [
    {
     "data": {
      "text/plain": [
       "[('assignment', (1, 2, 3, 4, 5, 6)),\n",
       " ('launch_date', {12, 14, 28}),\n",
       " ('class_time',\n",
       "  {'web_dev': 8,\n",
       "   'Data science masters': 8,\n",
       "   'java with dsa and system design': 7}),\n",
       " ('mentor', ['sudhanshu', 'krish', 'anurag', 'hayder'])]"
      ]
     },
     "execution_count": 31,
     "metadata": {},
     "output_type": "execute_result"
    }
   ],
   "source": [
    "list(d7.items())"
   ]
  },
  {
   "cell_type": "code",
   "execution_count": 32,
   "id": "7c945d77-2bcc-4097-9e0a-5c32a50f5c2c",
   "metadata": {},
   "outputs": [
    {
     "data": {
      "text/plain": [
       "['sudhanshu', 'krish', 'anurag', 'hayder']"
      ]
     },
     "execution_count": 32,
     "metadata": {},
     "output_type": "execute_result"
    }
   ],
   "source": [
    "d7.pop(\"mentor\")  #If the key is not found, return the default if given; otherwise,raise a KeyError."
   ]
  },
  {
   "cell_type": "code",
   "execution_count": 33,
   "id": "d472360c-2436-40fc-a02d-e277209b1456",
   "metadata": {},
   "outputs": [
    {
     "data": {
      "text/plain": [
       "{'assignment': (1, 2, 3, 4, 5, 6),\n",
       " 'launch_date': {12, 14, 28},\n",
       " 'class_time': {'web_dev': 8,\n",
       "  'Data science masters': 8,\n",
       "  'java with dsa and system design': 7}}"
      ]
     },
     "execution_count": 33,
     "metadata": {},
     "output_type": "execute_result"
    }
   ],
   "source": [
    "d7"
   ]
  },
  {
   "cell_type": "code",
   "execution_count": 34,
   "id": "353124ec-ee41-44eb-872b-519f9df96e17",
   "metadata": {},
   "outputs": [
    {
     "ename": "TypeError",
     "evalue": "pop expected at least 1 argument, got 0",
     "output_type": "error",
     "traceback": [
      "\u001b[0;31m---------------------------------------------------------------------------\u001b[0m",
      "\u001b[0;31mTypeError\u001b[0m                                 Traceback (most recent call last)",
      "Cell \u001b[0;32mIn[34], line 1\u001b[0m\n\u001b[0;32m----> 1\u001b[0m \u001b[43md7\u001b[49m\u001b[38;5;241;43m.\u001b[39;49m\u001b[43mpop\u001b[49m\u001b[43m(\u001b[49m\u001b[43m)\u001b[49m\n",
      "\u001b[0;31mTypeError\u001b[0m: pop expected at least 1 argument, got 0"
     ]
    }
   ],
   "source": [
    "d7.pop()"
   ]
  },
  {
   "cell_type": "markdown",
   "id": "e54b2644-296b-4158-8ba3-7996936389eb",
   "metadata": {},
   "source": [
    "control statement / decision making statements "
   ]
  },
  {
   "cell_type": "code",
   "execution_count": 35,
   "id": "04841863-8633-4a73-afdd-d21d964ac062",
   "metadata": {},
   "outputs": [
    {
     "name": "stdout",
     "output_type": "stream",
     "text": [
      "You will be a part of A1 batch\n"
     ]
    }
   ],
   "source": [
    "marks = 65\n",
    "if marks >= 80 :\n",
    "    print(\"You will be a part of A0 batch\")\n",
    "elif marks >=60 and marks < 80:\n",
    "    print(\"You will be a part of A1 batch\")\n",
    "elif marks >=40 and marks <60:\n",
    "    print(\"You will be a part of A2 batch\")\n",
    "else :\n",
    "    print(\"You will be a part of A3 batch \")"
   ]
  },
  {
   "cell_type": "code",
   "execution_count": 36,
   "id": "8d36abf3-78f2-432d-81a9-183cb951782e",
   "metadata": {},
   "outputs": [
    {
     "name": "stdout",
     "output_type": "stream",
     "text": [
      "You will be a part of A3 batch \n"
     ]
    }
   ],
   "source": [
    "marks = -65\n",
    "if marks >= 80 :\n",
    "    print(\"You will be a part of A0 batch\")\n",
    "elif marks >=60 and marks < 80:\n",
    "    print(\"You will be a part of A1 batch\")\n",
    "elif marks >=40 and marks <60:\n",
    "    print(\"You will be a part of A2 batch\")\n",
    "else :\n",
    "    print(\"You will be a part of A3 batch \")"
   ]
  },
  {
   "cell_type": "code",
   "execution_count": 37,
   "id": "2e69ba64-c6bd-437f-a1a1-b93f93a9326f",
   "metadata": {},
   "outputs": [
    {
     "data": {
      "text/plain": [
       "False"
      ]
     },
     "execution_count": 37,
     "metadata": {},
     "output_type": "execute_result"
    }
   ],
   "source": [
    "10 >= 80"
   ]
  },
  {
   "cell_type": "code",
   "execution_count": 42,
   "id": "a6b00813-975c-463b-94df-1a49ad7eb9fb",
   "metadata": {},
   "outputs": [
    {
     "name": "stdin",
     "output_type": "stream",
     "text": [
      "Enter your marks:  45\n"
     ]
    },
    {
     "name": "stdout",
     "output_type": "stream",
     "text": [
      "You will be a part of A2 batch\n"
     ]
    }
   ],
   "source": [
    "marks = int(input(\"Enter your marks: \"))\n",
    "if marks >= 80 :\n",
    "    print(\"You will be a part of A0 batch\")\n",
    "elif marks >=60 and marks < 80:\n",
    "    print(\"You will be a part of A1 batch\")\n",
    "elif marks >=40 and marks <60:\n",
    "    print(\"You will be a part of A2 batch\")\n",
    "else :\n",
    "    print(\"You will be a part of A3 batch \")"
   ]
  },
  {
   "cell_type": "code",
   "execution_count": 39,
   "id": "449b432a-d19c-4b68-a6e9-89d9423205b2",
   "metadata": {},
   "outputs": [
    {
     "name": "stdin",
     "output_type": "stream",
     "text": [
      "Enter your marks:  45\n"
     ]
    }
   ],
   "source": [
    "marks = input(\"Enter your marks: \")"
   ]
  },
  {
   "cell_type": "code",
   "execution_count": 40,
   "id": "a661e18b-bbda-4ef0-9ba4-1b670a3b76e1",
   "metadata": {},
   "outputs": [
    {
     "data": {
      "text/plain": [
       "'45'"
      ]
     },
     "execution_count": 40,
     "metadata": {},
     "output_type": "execute_result"
    }
   ],
   "source": [
    "marks"
   ]
  },
  {
   "cell_type": "code",
   "execution_count": 41,
   "id": "2cbd37bd-78a8-4fe5-93b8-4f1a6e487089",
   "metadata": {},
   "outputs": [
    {
     "data": {
      "text/plain": [
       "str"
      ]
     },
     "execution_count": 41,
     "metadata": {},
     "output_type": "execute_result"
    }
   ],
   "source": [
    "type(marks)"
   ]
  },
  {
   "cell_type": "code",
   "execution_count": 43,
   "id": "9a1874ac-8ec4-4a99-a90a-3847a8185a96",
   "metadata": {},
   "outputs": [
    {
     "name": "stdin",
     "output_type": "stream",
     "text": [
      "Enter your marks:  35.2\n"
     ]
    }
   ],
   "source": [
    "marks = float(input(\"Enter your marks: \"))"
   ]
  },
  {
   "cell_type": "code",
   "execution_count": 44,
   "id": "0e854aa5-70ae-4e2c-a678-97475b92e5c6",
   "metadata": {},
   "outputs": [
    {
     "data": {
      "text/plain": [
       "35.2"
      ]
     },
     "execution_count": 44,
     "metadata": {},
     "output_type": "execute_result"
    }
   ],
   "source": [
    "marks"
   ]
  },
  {
   "cell_type": "code",
   "execution_count": 45,
   "id": "d1a96912-1fc4-4d41-bae7-5cef63f846a9",
   "metadata": {},
   "outputs": [
    {
     "data": {
      "text/plain": [
       "float"
      ]
     },
     "execution_count": 45,
     "metadata": {},
     "output_type": "execute_result"
    }
   ],
   "source": [
    "type(marks)"
   ]
  },
  {
   "cell_type": "code",
   "execution_count": 46,
   "id": "576bf46e-b214-4d29-8f24-975995705674",
   "metadata": {},
   "outputs": [
    {
     "name": "stdin",
     "output_type": "stream",
     "text": [
      "Enter price:  5000\n"
     ]
    },
    {
     "name": "stdout",
     "output_type": "stream",
     "text": [
      "I will not purchase\n"
     ]
    }
   ],
   "source": [
    "price = int(input(\"Enter price: \"))\n",
    "if price > 1000 :\n",
    "    print(\"I will not purchase\")\n",
    "else :\n",
    "    print(\"I will purchase\")"
   ]
  },
  {
   "cell_type": "code",
   "execution_count": 48,
   "id": "3883211e-627d-4302-8a56-1921fc8e3f08",
   "metadata": {},
   "outputs": [
    {
     "name": "stdin",
     "output_type": "stream",
     "text": [
      "Enter price:  500\n"
     ]
    }
   ],
   "source": [
    "price = int(input(\"Enter price: \"))\n",
    "if price > 1000 :\n",
    "    print(\"I will not purchase\")"
   ]
  },
  {
   "cell_type": "code",
   "execution_count": 49,
   "id": "d3adb19c-fd6f-4950-b76b-406e56b15cf6",
   "metadata": {},
   "outputs": [
    {
     "name": "stdin",
     "output_type": "stream",
     "text": [
      "Enter price:  7000\n"
     ]
    },
    {
     "name": "stdout",
     "output_type": "stream",
     "text": [
      "I will not purchase\n"
     ]
    }
   ],
   "source": [
    "price = int(input(\"Enter price: \"))\n",
    "if price > 1000 :\n",
    "    print(\"I will not purchase\")"
   ]
  },
  {
   "cell_type": "code",
   "execution_count": 50,
   "id": "6339dafa-dfa0-4d74-9149-0e3a6f42ce18",
   "metadata": {},
   "outputs": [
    {
     "name": "stdin",
     "output_type": "stream",
     "text": [
      "Enter price:  7000\n"
     ]
    },
    {
     "name": "stdout",
     "output_type": "stream",
     "text": [
      "I will not purchase\n",
      "This is too much\n"
     ]
    }
   ],
   "source": [
    "price = int(input(\"Enter price: \"))\n",
    "if price > 1000 :\n",
    "    print(\"I will not purchase\")\n",
    "    if price > 5000:\n",
    "        print(\"This is too much\")"
   ]
  },
  {
   "cell_type": "code",
   "execution_count": 51,
   "id": "d12f3d3b-31cc-4644-935d-61f14de24f27",
   "metadata": {},
   "outputs": [
    {
     "name": "stdin",
     "output_type": "stream",
     "text": [
      "Enter price:  1500\n"
     ]
    },
    {
     "name": "stdout",
     "output_type": "stream",
     "text": [
      "I will not purchase\n",
      "It's ok\n"
     ]
    }
   ],
   "source": [
    "price = int(input(\"Enter price: \"))\n",
    "if price > 1000 :\n",
    "    print(\"I will not purchase\")\n",
    "    if price > 5000:\n",
    "        print(\"This is too much\")\n",
    "    elif price <2000 :\n",
    "        print(\"It's ok\")"
   ]
  },
  {
   "cell_type": "code",
   "execution_count": 52,
   "id": "788a0fac-fb4e-4067-b862-41a74cc6ac68",
   "metadata": {},
   "outputs": [
    {
     "name": "stdin",
     "output_type": "stream",
     "text": [
      "Enter price:  700\n"
     ]
    },
    {
     "name": "stdout",
     "output_type": "stream",
     "text": [
      "I will purchase\n"
     ]
    }
   ],
   "source": [
    "price = int(input(\"Enter price: \"))\n",
    "if price > 1000 :\n",
    "    print(\"I will not purchase\")\n",
    "    if price > 5000:\n",
    "        print(\"This is too much\")\n",
    "    elif price <2000 :\n",
    "        print(\"It's ok\")\n",
    "elif price < 1000:\n",
    "    print(\"I will purchase\")\n",
    "else :\n",
    "    print(\"not interested\")"
   ]
  },
  {
   "cell_type": "code",
   "execution_count": null,
   "id": "1b86c474-c76f-4a37-9dc1-fb4b21b29598",
   "metadata": {},
   "outputs": [],
   "source": [
    "l=[1,2,3,3,4,5,6,7,8]"
   ]
  },
  {
   "cell_type": "code",
   "execution_count": 54,
   "id": "973ccbd9-ee84-4483-8b8b-7db428a9eeb0",
   "metadata": {},
   "outputs": [
    {
     "data": {
      "text/plain": [
       "2"
      ]
     },
     "execution_count": 54,
     "metadata": {},
     "output_type": "execute_result"
    }
   ],
   "source": [
    "l[0]+1"
   ]
  },
  {
   "cell_type": "code",
   "execution_count": 55,
   "id": "792318b0-ea67-4dae-9611-21741ee6f078",
   "metadata": {},
   "outputs": [],
   "source": [
    "l1=[]"
   ]
  },
  {
   "cell_type": "code",
   "execution_count": 56,
   "id": "ea2c0ba2-9fd5-44a7-9227-e05fd8f76c42",
   "metadata": {},
   "outputs": [],
   "source": [
    "l1.append(l[0]+1)"
   ]
  },
  {
   "cell_type": "code",
   "execution_count": 57,
   "id": "dcde163a-16f6-49b7-acf8-6ed7a20b6c6a",
   "metadata": {},
   "outputs": [
    {
     "data": {
      "text/plain": [
       "[2]"
      ]
     },
     "execution_count": 57,
     "metadata": {},
     "output_type": "execute_result"
    }
   ],
   "source": [
    "l1"
   ]
  },
  {
   "cell_type": "code",
   "execution_count": 59,
   "id": "6ddd3736-75bd-49f4-b620-8ab5693c49bc",
   "metadata": {},
   "outputs": [
    {
     "data": {
      "text/plain": [
       "[1, 2, 3, 3, 4, 5, 6, 7, 8]"
      ]
     },
     "execution_count": 59,
     "metadata": {},
     "output_type": "execute_result"
    }
   ],
   "source": [
    "l"
   ]
  },
  {
   "cell_type": "code",
   "execution_count": 60,
   "id": "a4ff109e-06c4-4b74-bf3b-6ef0693fb09b",
   "metadata": {},
   "outputs": [],
   "source": [
    "l=[1,2,3,3,4,5,6,7,8]"
   ]
  },
  {
   "cell_type": "code",
   "execution_count": 61,
   "id": "cddaf34e-8d28-44f4-a2df-b165c6ad774e",
   "metadata": {},
   "outputs": [
    {
     "name": "stdout",
     "output_type": "stream",
     "text": [
      "1\n",
      "2\n",
      "3\n",
      "3\n",
      "4\n",
      "5\n",
      "6\n",
      "7\n",
      "8\n"
     ]
    }
   ],
   "source": [
    "for i in l :\n",
    "    print(i)"
   ]
  },
  {
   "cell_type": "code",
   "execution_count": 62,
   "id": "cf11968a-badd-491b-bd64-5edb43d6e2e2",
   "metadata": {},
   "outputs": [
    {
     "name": "stdout",
     "output_type": "stream",
     "text": [
      "2\n",
      "3\n",
      "4\n",
      "4\n",
      "5\n",
      "6\n",
      "7\n",
      "8\n",
      "9\n"
     ]
    }
   ],
   "source": [
    "l1 = []\n",
    "for i in l :\n",
    "    print(i+1)"
   ]
  },
  {
   "cell_type": "code",
   "execution_count": 66,
   "id": "8df8e429-f170-46e5-b5ed-c7a6dad54b72",
   "metadata": {},
   "outputs": [
    {
     "name": "stdout",
     "output_type": "stream",
     "text": [
      "2\n",
      "3\n",
      "4\n",
      "4\n",
      "5\n",
      "6\n",
      "7\n",
      "8\n",
      "9\n"
     ]
    },
    {
     "data": {
      "text/plain": [
       "[2, 3, 4, 4, 5, 6, 7, 8, 9]"
      ]
     },
     "execution_count": 66,
     "metadata": {},
     "output_type": "execute_result"
    }
   ],
   "source": [
    "l1 = []\n",
    "for i in l :\n",
    "    print(i+1)\n",
    "    l1.append(i+1)\n",
    "l1"
   ]
  },
  {
   "cell_type": "code",
   "execution_count": 65,
   "id": "c26a3f60-2ff2-4bd3-be73-26dad1b0b35f",
   "metadata": {},
   "outputs": [
    {
     "data": {
      "text/plain": [
       "[1, 2, 3, 3, 4, 5, 6, 7, 8]"
      ]
     },
     "execution_count": 65,
     "metadata": {},
     "output_type": "execute_result"
    }
   ],
   "source": [
    "l"
   ]
  },
  {
   "cell_type": "code",
   "execution_count": 67,
   "id": "61ae6f59-a230-4184-bb05-308dc17ae661",
   "metadata": {},
   "outputs": [],
   "source": [
    "l=[\"tiyasha\",\"neogi\",\"pwskils\",\"course\"]"
   ]
  },
  {
   "cell_type": "code",
   "execution_count": 69,
   "id": "15010f47-f5a9-4289-8bd3-efcee42ce161",
   "metadata": {},
   "outputs": [
    {
     "name": "stdout",
     "output_type": "stream",
     "text": [
      "tiyasha\n",
      "neogi\n",
      "pwskils\n",
      "course\n"
     ]
    }
   ],
   "source": [
    "for i in l :\n",
    "    print(i)"
   ]
  },
  {
   "cell_type": "code",
   "execution_count": 71,
   "id": "a51762ad-d594-4415-86e0-de205ecd237e",
   "metadata": {},
   "outputs": [
    {
     "name": "stdout",
     "output_type": "stream",
     "text": [
      "tiyasha\n",
      "neogi\n",
      "pwskils\n",
      "course\n"
     ]
    },
    {
     "data": {
      "text/plain": [
       "['TIYASHA', 'NEOGI', 'PWSKILS', 'COURSE']"
      ]
     },
     "execution_count": 71,
     "metadata": {},
     "output_type": "execute_result"
    }
   ],
   "source": [
    "l1=[]\n",
    "for i in l :\n",
    "    print(i)\n",
    "    l1.append(i.upper())\n",
    "l1"
   ]
  },
  {
   "cell_type": "code",
   "execution_count": 72,
   "id": "acd3040b-59a2-4131-b34b-f19f5ab41aeb",
   "metadata": {},
   "outputs": [],
   "source": [
    "l=[1,2,3,4,4,\"tiyasha\",\"neogi\",324,34,456,\"abc\"]"
   ]
  },
  {
   "cell_type": "code",
   "execution_count": 75,
   "id": "20091603-0464-4dff-a497-f04d16bcd677",
   "metadata": {},
   "outputs": [
    {
     "data": {
      "text/plain": [
       "[1, 2, 3, 4, 4, 324, 34, 456]"
      ]
     },
     "execution_count": 75,
     "metadata": {},
     "output_type": "execute_result"
    }
   ],
   "source": [
    "l1_num=[]\n",
    "l2_str=[]\n",
    "for i in l:\n",
    "    if type(i) == int or type(i) == float :\n",
    "        l1_num.append(i)\n",
    "    else:\n",
    "        l2_str.append(i)\n",
    "l1_num"
   ]
  },
  {
   "cell_type": "code",
   "execution_count": 77,
   "id": "4d5a5646-19dd-4d11-b00d-eb59f10fe7f1",
   "metadata": {},
   "outputs": [
    {
     "data": {
      "text/plain": [
       "['tiyasha', 'neogi', 'abc']"
      ]
     },
     "execution_count": 77,
     "metadata": {},
     "output_type": "execute_result"
    }
   ],
   "source": [
    "l2_str"
   ]
  },
  {
   "cell_type": "code",
   "execution_count": null,
   "id": "c46349ab-aadf-4656-855f-0fd2886c18eb",
   "metadata": {},
   "outputs": [],
   "source": []
  }
 ],
 "metadata": {
  "kernelspec": {
   "display_name": "Python 3 (ipykernel)",
   "language": "python",
   "name": "python3"
  },
  "language_info": {
   "codemirror_mode": {
    "name": "ipython",
    "version": 3
   },
   "file_extension": ".py",
   "mimetype": "text/x-python",
   "name": "python",
   "nbconvert_exporter": "python",
   "pygments_lexer": "ipython3",
   "version": "3.10.8"
  }
 },
 "nbformat": 4,
 "nbformat_minor": 5
}
